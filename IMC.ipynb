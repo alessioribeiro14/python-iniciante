{
  "nbformat": 4,
  "nbformat_minor": 0,
  "metadata": {
    "colab": {
      "provenance": []
    },
    "kernelspec": {
      "name": "python3",
      "display_name": "Python 3"
    },
    "language_info": {
      "name": "python"
    }
  },
  "cells": [
    {
      "cell_type": "code",
      "execution_count": 3,
      "metadata": {
        "colab": {
          "base_uri": "https://localhost:8080/"
        },
        "id": "PebBwLrLLSOT",
        "outputId": "62e8aac2-3107-40b4-e5d2-cd69c5b5c08b"
      },
      "outputs": [
        {
          "output_type": "stream",
          "name": "stdout",
          "text": [
            "1.85\n",
            "80.1\n",
            "23.40\n"
          ]
        }
      ],
      "source": [
        "altura = float(input(''))\n",
        "peso = float(input(''))\n",
        "IMC = peso/(altura * altura)\n",
        "print(\"%.2f\" % IMC)"
      ]
    },
    {
      "cell_type": "code",
      "source": [
        "# < 16                Magreza grave\n",
        "# 16 a < 17       Magreza moderada\n",
        "# 17 a < 18,5    Magreza leve\n",
        "# 18,5 a < 25    Saudavel\n",
        "# 25 a < 30       Sobrepeso\n",
        "# 30 a < 35       Obesidade Grau I\n",
        "# 35 a < 40       Obesidade Grau II (severa)\n",
        "# ≥ 40                Obesidade Grau III (morbida)\n",
        "a = float(input(''))\n",
        "p = float(input(''))\n",
        "IMC = p/(a * a)\n",
        "\n",
        "\n",
        "if IMC < 16:\n",
        " print(\"Magreza grave\")\n",
        "elif IMC < 17:\n",
        " print(\"Magreza moderada\")\n",
        "elif IMC < 18.5:\n",
        "  print(\"Magreza leve\")\n",
        "elif IMC < 25:\n",
        "  print(\"Saudavel\")\n",
        "elif IMC < 30:\n",
        "  print(\"Sobrepeso\")\n",
        "elif IMC < 35:\n",
        "  print(\"Obesidade Grau I\")\n",
        "elif IMC < 40:\n",
        "  print(\"Obesidade Grau II, severa\")\n",
        "else:\n",
        "  print(\"Obesidade Grau III, morbida\")"
      ],
      "metadata": {
        "colab": {
          "base_uri": "https://localhost:8080/"
        },
        "id": "SaNNetxmNFsJ",
        "outputId": "18ad3fee-f8b8-44b0-8121-1b092b88e1c9"
      },
      "execution_count": 9,
      "outputs": [
        {
          "output_type": "stream",
          "name": "stdout",
          "text": [
            "1.86\n",
            "80.1\n",
            "Saudavel\n"
          ]
        }
      ]
    },
    {
      "cell_type": "code",
      "source": [],
      "metadata": {
        "id": "48kWgFX0OL11"
      },
      "execution_count": null,
      "outputs": []
    }
  ]
}