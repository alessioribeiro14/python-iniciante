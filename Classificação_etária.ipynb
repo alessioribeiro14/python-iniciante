{
  "nbformat": 4,
  "nbformat_minor": 0,
  "metadata": {
    "colab": {
      "provenance": []
    },
    "kernelspec": {
      "name": "python3",
      "display_name": "Python 3"
    },
    "language_info": {
      "name": "python"
    }
  },
  "cells": [
    {
      "cell_type": "code",
      "execution_count": 6,
      "metadata": {
        "colab": {
          "base_uri": "https://localhost:8080/"
        },
        "id": "C6LthHkKPZdQ",
        "outputId": "c94df0ab-acf1-4b26-9b82-94cb4da5288e"
      },
      "outputs": [
        {
          "output_type": "stream",
          "name": "stdout",
          "text": [
            "Quantos anos você tem?  20\n",
            "Filmes que você pode assistir:\n",
            "Shrek (2001)\n",
            "O Lar das Crianças Peculiares (2016)\n",
            "Pantera Negra (2018)\n",
            "Deadpool (2016)\n",
            "Kill Bill: Volume 1 (2003)\n"
          ]
        }
      ],
      "source": [
        "idade = int(input(\"Quantos anos você tem?  \"))\n",
        "\n",
        "print(\"Filmes que você pode assistir:\")\n",
        "\n",
        "if idade >= 0:\n",
        "  print(\"Shrek (2001)\")\n",
        "if idade >= 12:\n",
        "  print(\"O Lar das Crianças Peculiares (2016)\")\n",
        "if idade >= 14:\n",
        "  print(\"Pantera Negra (2018)\")\n",
        "if idade >= 16:\n",
        "  print(\"Deadpool (2016)\")\n",
        "if idade >= 18:\n",
        " print(\"Kill Bill: Volume 1 (2003)\")\n"
      ]
    },
    {
      "cell_type": "markdown",
      "source": [
        "**Observações**\n",
        "\n",
        "\n",
        "*   Quando se utiliza o condicional **if** em sequencia o codigo analisa cada condição, independemente das anteriores\n",
        "*   **Elif** (senão se) analisado caso o if anterior não seja verdadeiro\n",
        "\n",
        "\n",
        "*  **Else** é usado quando nenhuma das condições anteriores forem verdadeiras\n",
        "\n",
        "Portanto, nesse contexto o ideal é utilizar vários if.\n",
        "\n",
        "\n",
        "\n",
        "\n"
      ],
      "metadata": {
        "id": "AFD5lFzgScmN"
      }
    }
  ]
}