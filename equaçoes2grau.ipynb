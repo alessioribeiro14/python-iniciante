{
  "nbformat": 4,
  "nbformat_minor": 0,
  "metadata": {
    "colab": {
      "provenance": []
    },
    "kernelspec": {
      "name": "python3",
      "display_name": "Python 3"
    },
    "language_info": {
      "name": "python"
    }
  },
  "cells": [
    {
      "cell_type": "code",
      "execution_count": 10,
      "metadata": {
        "id": "IhZH0UJG_6sP"
      },
      "outputs": [],
      "source": [
        "import math\n",
        "def calculaDelta(a, b, c):\n",
        "  return b**2 - 4*a*c\n",
        "def calculaSolução1(a, b, delta):\n",
        "  return (-b + math.sqrt(delta))/ (2*a)\n",
        "def calculaSolução2(a, b, delta):\n",
        "  return (-b - math.sqrt(delta))/ (2*a)"
      ]
    },
    {
      "cell_type": "code",
      "source": [
        "a = float(input())\n",
        "b = float(input())\n",
        "c = float(input())\n",
        "\n",
        "delta = calculaDelta(a, b, c)\n",
        "solução1 = calculaSolução1(a, b, delta)\n",
        "solução2 = calculaSolução2(a, b, delta)\n",
        "\n",
        "print(\"Valor de delta: {:.2f}\" .format(delta))\n",
        "\n",
        "if delta == 0:\n",
        "  print(\"Solução: {:.2f}\" .format(solução1))\n",
        "else:\n",
        "  print(\"Solução 1: {:.2f}\" . format(solução1))\n",
        "  print(\"Solução 2: {:.2f}\" . format(solução2))"
      ],
      "metadata": {
        "colab": {
          "base_uri": "https://localhost:8080/"
        },
        "id": "KYRH2mQlADAl",
        "outputId": "5ab7b08c-3c97-40c4-d500-1ec789a79049"
      },
      "execution_count": 11,
      "outputs": [
        {
          "output_type": "stream",
          "name": "stdout",
          "text": [
            "1\n",
            "15\n",
            "-3\n",
            "Valor de delta: 237.00\n",
            "Solução 1: 0.20\n",
            "Solução 2: -15.20\n"
          ]
        }
      ]
    }
  ]
}