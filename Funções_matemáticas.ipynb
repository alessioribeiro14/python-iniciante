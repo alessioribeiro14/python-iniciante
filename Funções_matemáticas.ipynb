{
  "nbformat": 4,
  "nbformat_minor": 0,
  "metadata": {
    "colab": {
      "provenance": []
    },
    "kernelspec": {
      "name": "python3",
      "display_name": "Python 3"
    },
    "language_info": {
      "name": "python"
    }
  },
  "cells": [
    {
      "cell_type": "markdown",
      "source": [
        "O programa abaixo dois números da entrada padrão e depois faz uma operação com eles. A operação pode ser uma das seguintes:\n",
        "\n",
        "*  somaRaizes: soma a raiz quadrada do primeiro número com a raiz quadrada do\n",
        "segundo (resultado é float)\n",
        "*   potencia: eleva o primeiro ao segundo (resultado é inteiro)\n",
        "\n",
        "*   multiplicaPotencias: multiplica X por Y, em que X é o primeiro número elevado ao segundo, e Y o segundo elevado ao primeiro (resultado é inteiro)"
      ],
      "metadata": {
        "id": "0Ll7e482bOs2"
      }
    },
    {
      "cell_type": "code",
      "execution_count": 3,
      "metadata": {
        "id": "BYw5AGEgaS2T"
      },
      "outputs": [],
      "source": [
        "import math\n",
        "def somaRaizes(a,b):\n",
        " return math.sqrt(a) + math.sqrt(b)\n",
        "def potencia(a,b):\n",
        " return a**b\n",
        "def multiplicaPotencias(a,b):\n",
        " return (a**b) * (b**a)"
      ]
    },
    {
      "cell_type": "code",
      "source": [
        "a = int(input())\n",
        "b = int(input())\n",
        "operação = input()\n",
        "\n",
        "if operação == \"somaRaizes\":\n",
        " resultado = somaRaizes(a,b)\n",
        "if operação == \"potencia\":\n",
        " resultado = potencia(a,b)\n",
        "if operação == \"multiplicaPotencias\":\n",
        " resultado = multiplicaPotencias(a,b)\n",
        "\n",
        "print(f\"{resultado:.2f}\")"
      ],
      "metadata": {
        "id": "DVOpH7sjbNZJ",
        "colab": {
          "base_uri": "https://localhost:8080/"
        },
        "outputId": "1c48616d-e873-4518-a343-5a517705a3e9"
      },
      "execution_count": 9,
      "outputs": [
        {
          "output_type": "stream",
          "name": "stdout",
          "text": [
            "10\n",
            "90\n",
            "somaRaizes\n",
            "12.65\n"
          ]
        }
      ]
    },
    {
      "cell_type": "markdown",
      "source": [],
      "metadata": {
        "id": "SVnh9A6gbqMP"
      }
    }
  ]
}