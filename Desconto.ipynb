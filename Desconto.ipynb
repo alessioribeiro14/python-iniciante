{
  "nbformat": 4,
  "nbformat_minor": 0,
  "metadata": {
    "colab": {
      "provenance": []
    },
    "kernelspec": {
      "name": "python3",
      "display_name": "Python 3"
    },
    "language_info": {
      "name": "python"
    }
  },
  "cells": [
    {
      "cell_type": "markdown",
      "source": [
        "Faça um programa que leia um número float representando o valor total de uma compra em reais. Também leia uma String que poderá ser \"S\" ou \"N\", indicando se o cliente é um cliente ouro (\"S\") ou não (\"N\"). Depois, calcule o valor final da compra. Para isso considere as seguintes regras:\n",
        "Se o valor da compra for maior ou igual a 1000 reais e menor que 10000\n",
        "\n",
        "* Se o valor da compra for maior ou igual a 1000 reais e menor que 10000 reais, aplique um desconto de 5% no valor total;\n",
        "*   Se o valor da compra for maior ou igual a 10000 reais, aplique um desconto de 10% no valor total;\n",
        "\n",
        "*   Se for cliente ouro e o valor da compra for maior ou igual a 50 reais, aplique um desconto de 3% (desconto cumulativo com os anteriores).\n",
        "\n",
        "Por fim, escreva o seguinte conteúdo na saída:\n",
        "Caso seja um cliente ouro, escreva uma linha com o conteúdo \"Obrigado, cliente ouro\"\n",
        "Uma linha \"Valor final: R$X.XX\", em que \"X.XX\" é o valor final da compra formatado com duas casas decimais"
      ],
      "metadata": {
        "id": "242jGPhUkG71"
      }
    },
    {
      "cell_type": "code",
      "execution_count": 21,
      "metadata": {
        "colab": {
          "base_uri": "https://localhost:8080/"
        },
        "id": "ohvD6JffYGZ8",
        "outputId": "ed594cd9-c22f-4bad-fff5-a79e7d1975df"
      },
      "outputs": [
        {
          "output_type": "stream",
          "name": "stdout",
          "text": [
            "Qual foi o valor da sua compra?  70\n",
            "Você é um cliente ouro? Digite S se for e digite N se não for.  s\n",
            "Obrigado, cliente ouro\n",
            "Valor Final:R$67.90\n"
          ]
        }
      ],
      "source": [
        "valorCompra = float(input(\"Qual foi o valor da sua compra?  \"))\n",
        "\n",
        "cliente = str(input(\"Você é um cliente ouro? Digite S se for e digite N se não for.  \")).strip().upper()\n",
        "\n",
        "if valorCompra >= 1000 and valorCompra <= 10000:\n",
        "  valorFinal = valorCompra * 0.95\n",
        "elif valorCompra > 10000:\n",
        "  valorFinal = valorCompra * 0.9\n",
        "if cliente == \"S\":\n",
        "  print(\"Obrigado, cliente ouro\")\n",
        "  if valorCompra >= 50:\n",
        "    valorFinal = valorCompra * 0.97\n",
        "print(\"Valor Final:R$\" \"{:.2f}\".format(valorFinal,2))"
      ]
    }
  ]
}